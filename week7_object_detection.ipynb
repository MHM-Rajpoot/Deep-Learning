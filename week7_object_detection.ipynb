{
 "cells": [
  {
   "cell_type": "markdown",
   "metadata": {
    "colab_type": "text",
    "id": "view-in-github"
   },
   "source": [
    "<a href=\"https://colab.research.google.com/github/Ali-Alameer/Deep-Learning/blob/main/week7_object_detection.ipynb\" target=\"_parent\"><img src=\"https://colab.research.google.com/assets/colab-badge.svg\" alt=\"Open In Colab\"/></a>"
   ]
  },
  {
   "cell_type": "markdown",
   "metadata": {
    "id": "GD9gUQpaBxNa"
   },
   "source": [
    "# Train YOLO11 on a Custom Dataset\n",
    "\n",
    "### **Steps Covered in this Tutorial**\n",
    "\n",
    "To train our detector we take the following steps:\n",
    "\n",
    "* Install YOLO11 dependencies\n",
    "* Load custom dataset from Roboflow in YOLO11 format\n",
    "* Run YOLO11 training\n",
    "* Evaluate YOLO11 performance\n",
    "* Run YOLO11 inference on test images\n",
    "* OPTIONAL: Deployment\n",
    "* OPTIONAL: Active Learning\n",
    "\n",
    "\n",
    "### Preparing a Custom Dataset\n",
    "\n",
    "If you already have your own images (and, optionally, annotations), you can convert your dataset using [Roboflow](https://roboflow.com), a set of tools developers use to build better computer vision models quickly and accurately. 1"
   ]
  },
  {
   "cell_type": "markdown",
   "metadata": {
    "id": "7mGmQbAO5pQb"
   },
   "source": [
    "#Install Dependencies\n",
    "\n",
    "_(Remember to choose GPU in Runtime if not already selected. Runtime --> Change Runtime Type --> Hardware accelerator --> GPU)_"
   ]
  },
  {
   "cell_type": "code",
   "execution_count": null,
   "metadata": {
    "id": "JGJspIl90XhV"
   },
   "outputs": [],
   "source": [
    "!nvidia-smi"
   ]
  },
  {
   "cell_type": "markdown",
   "metadata": {
    "id": "nD-uPyQ_2jiN"
   },
   "source": [
    "## Preparing a custom dataset\n",
    "\n",
    "### Step 1: Creating project\n",
    "\n",
    "Before you start, you need to create a Roboflow [account](https://app.roboflow.com/login). Once you do that, you can create a new project in the Roboflow [dashboard](https://app.roboflow.com/). Keep in mind to choose the right project type. In our case, Object Detection.\n",
    "\n",
    "<div align=\"center\">\n",
    "  <img\n",
    "    width=\"640\"\n",
    "    src=\"https://ik.imagekit.io/roboflow/preparing-custom-dataset-example/creating-project.gif?ik-sdk-version=javascript-1.4.3&updatedAt=1672929799852\"\n",
    "  >\n",
    "</div>\n",
    "\n",
    "### Step 2: Uploading images\n",
    "\n",
    "Next, add the data to your newly created project. You can do it via API or through our [web interface](https://docs.roboflow.com/adding-data/object-detection).\n",
    "\n",
    "If you drag and drop a directory with a dataset in a supported format, the Roboflow dashboard will automatically read the images and annotations together.\n",
    "\n",
    "<div align=\"center\">\n",
    "  <img\n",
    "    width=\"640\"\n",
    "    src=\"https://ik.imagekit.io/roboflow/preparing-custom-dataset-example/uploading-images.gif?ik-sdk-version=javascript-1.4.3&updatedAt=1672929808290\"\n",
    "  >\n",
    "</div>\n",
    "\n",
    "### Step 3: Labeling\n",
    "\n",
    "If you only have images, you can label them in [Roboflow Annotate](https://docs.roboflow.com/annotate).\n",
    "\n",
    "<div align=\"center\">\n",
    "  <img\n",
    "    width=\"640\"\n",
    "    src=\"https://user-images.githubusercontent.com/26109316/210901980-04861efd-dfc0-4a01-9373-13a36b5e1df4.gif\"\n",
    "  >\n",
    "</div>\n",
    "\n",
    "### Step 4: Generate new dataset version\n",
    "\n",
    "Now that we have our images and annotations added, we can Generate a Dataset Version. When Generating a Version, you may elect to add preprocessing and augmentations. This step is completely optional, however, it can allow you to significantly improve the robustness of your model.\n",
    "\n",
    "<div align=\"center\">\n",
    "  <img\n",
    "    width=\"640\"\n",
    "    src=\"https://media.roboflow.com/preparing-custom-dataset-example/generate-new-version.gif?ik-sdk-version=javascript-1.4.3&updatedAt=1673003597834\"\n",
    "  >\n",
    "</div>\n",
    "\n",
    "### Step 5: Exporting dataset\n",
    "\n",
    "Once the dataset version is generated, we have a hosted dataset we can load directly into our notebook for easy training. Click `Export` and select the `desired` dataset format.\n",
    "\n",
    "<div align=\"center\">\n",
    "  <img\n",
    "    width=\"640\"\n",
    "    src=\"https://ik.imagekit.io/roboflow/preparing-custom-dataset-example/export.gif?ik-sdk-version=javascript-1.4.3&updatedAt=1672943313709\"\n",
    "  >\n",
    "</div>\n",
    "\n",
    "\n"
   ]
  },
  {
   "cell_type": "code",
   "execution_count": null,
   "metadata": {},
   "outputs": [],
   "source": [
    "!pip install roboflow ultralytics"
   ]
  },
  {
   "cell_type": "markdown",
   "metadata": {
    "id": "hXdgPlv82xI7"
   },
   "source": [
    "# Download Correctly Formatted Custom Data\n",
    "\n",
    "Next, we'll download our dataset in the right format. Use the `YOLO11 PyTorch` export. Note that this model requires YOLO TXT annotations, a custom YAML file, and organized directories. The roboflow export writes this for us and saves it in the correct spot.\n"
   ]
  },
  {
   "cell_type": "code",
   "execution_count": null,
   "metadata": {
    "id": "mtJ24mPlyF-S"
   },
   "outputs": [],
   "source": [
    "!curl -L \"https://app.roboflow.com/ds/PEtxKedfAz?key=kVGmcyjqOg\" -o roboflow.zip\n",
    "!unzip roboflow.zip -d roboflow\n"
   ]
  },
  {
   "cell_type": "markdown",
   "metadata": {
    "id": "ovKgrVN8ygdW"
   },
   "source": [
    "# Begin Custom Training\n",
    "\n",
    "We're ready to start custom training.\n",
    "\n",
    "NOTE: We will only modify one of the YOLO11 training defaults in our example: `epochs`. We will adjust from 30 to 10 epochs in our example for speed."
   ]
  },
  {
   "cell_type": "code",
   "execution_count": null,
   "metadata": {
    "id": "bHfT9gEiBsBd"
   },
   "outputs": [],
   "source": [
    "# run this cell to begin training; for real implemenation increase number of epochs\n",
    "!yolo detect train model=yolo11n.pt data=roboflow/data.yaml epochs=5 imgsz=640\n"
   ]
  },
  {
   "cell_type": "code",
   "execution_count": null,
   "metadata": {
    "id": "bUbmy674bhpD"
   },
   "outputs": [],
   "source": [
    "from IPython.display import Image, display\n",
    "\n",
    "display(Image(filename='/content/runs/detect/train/results.png'))"
   ]
  },
  {
   "cell_type": "markdown",
   "metadata": {
    "id": "1iqOPKjr22mL"
   },
   "source": [
    "# Evaluation\n",
    "\n",
    "We can evaluate the performance of our custom training using the provided evalution script. Make sure the exp #number is up to date -- check the folder within"
   ]
  },
  {
   "cell_type": "code",
   "execution_count": null,
   "metadata": {
    "id": "0W0MpUaTCJro"
   },
   "outputs": [],
   "source": [
    "# Run evaluation\n",
    "!yolo predict \\\n",
    "  model=/content/runs/detect/train/weights/best.pt \\\n",
    "  source=/content/roboflow/test/images \\\n",
    "  project=/content/runs/detect \\\n",
    "  name=pred_test \\\n",
    "  exist_ok=True\n"
   ]
  },
  {
   "cell_type": "code",
   "execution_count": null,
   "metadata": {
    "id": "N4cfnLtTCIce"
   },
   "outputs": [],
   "source": [
    "import gradio as gr\n",
    "import glob\n",
    "from PIL import Image\n",
    "\n",
    "# folder where YOLO saves predictions\n",
    "PRED_DIR = \"/content/runs/detect/pred_test\"\n",
    "\n",
    "# fetch list of image paths (JPG and PNG support)\n",
    "images = sorted(glob.glob(f\"{PRED_DIR}/*.jpg\")) + sorted(glob.glob(f\"{PRED_DIR}/*.png\"))\n",
    "\n",
    "def show_image(image_path):\n",
    "    return Image.open(image_path)\n",
    "\n",
    "with gr.Blocks() as demo:\n",
    "    gr.Markdown(\"## 🐄 YOLO Detection Results Viewer\")\n",
    "\n",
    "    dropdown = gr.Dropdown(\n",
    "        choices=images,\n",
    "        label=\"Select a prediction image\",\n",
    "        value=images[0] if images else None\n",
    "    )\n",
    "\n",
    "    image_display = gr.Image(label=\"Detected Image\")\n",
    "\n",
    "    dropdown.change(fn=show_image, inputs=dropdown, outputs=image_display)\n",
    "\n",
    "demo.launch(debug=True)\n"
   ]
  },
  {
   "cell_type": "code",
   "execution_count": null,
   "metadata": {
    "id": "6AGhNOSSHY4_"
   },
   "outputs": [],
   "source": []
  }
 ],
 "metadata": {
  "accelerator": "GPU",
  "colab": {
   "include_colab_link": true,
   "provenance": []
  },
  "kernelspec": {
   "display_name": "Python 3",
   "name": "python3"
  }
 },
 "nbformat": 4,
 "nbformat_minor": 0
}
